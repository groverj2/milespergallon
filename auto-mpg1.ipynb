{
 "cells": [
  {
   "cell_type": "markdown",
   "metadata": {},
   "source": [
    "# Predict mileage of cars, given values of following parameters for around 398 cars:\n",
    "\n",
    "1. mpg: continuous \n",
    "2. cylinders: multi-valued discrete \n",
    "3. displacement: continuous \n",
    "4. horsepower: continuous \n",
    "5. weight: continuous \n",
    "6. acceleration: continuous \n",
    "7. model year: multi-valued discrete \n",
    "8. origin: multi-valued discrete \n",
    "9. car name: string (unique for each instance)"
   ]
  },
  {
   "cell_type": "markdown",
   "metadata": {},
   "source": [
    "https://archive.ics.uci.edu/ml/datasets/Auto+MPG"
   ]
  },
  {
   "cell_type": "code",
   "execution_count": 463,
   "metadata": {},
   "outputs": [],
   "source": [
    "import pandas as pd\n",
    "import numpy as np\n",
    "import matplotlib.pyplot as plt\n",
    "import seaborn as sns\n",
    "%matplotlib inline\n",
    "\n",
    "from sklearn import preprocessing\n",
    "\n",
    "from sklearn.model_selection import cross_val_score\n",
    "from sklearn.model_selection import KFold\n",
    "from sklearn import metrics\n"
   ]
  },
  {
   "cell_type": "markdown",
   "metadata": {},
   "source": [
    "## Read data file"
   ]
  },
  {
   "cell_type": "markdown",
   "metadata": {},
   "source": [
    "- '\\s+' is a regex matching any whitespace character i.e. [\\t\\n\\r\\f\\v]\n",
    "- read *.data file using pandas.read_csv function by specificying the delimiter as space/tabe etc."
   ]
  },
  {
   "cell_type": "code",
   "execution_count": 464,
   "metadata": {},
   "outputs": [
    {
     "data": {
      "text/html": [
       "<div>\n",
       "<style scoped>\n",
       "    .dataframe tbody tr th:only-of-type {\n",
       "        vertical-align: middle;\n",
       "    }\n",
       "\n",
       "    .dataframe tbody tr th {\n",
       "        vertical-align: top;\n",
       "    }\n",
       "\n",
       "    .dataframe thead th {\n",
       "        text-align: right;\n",
       "    }\n",
       "</style>\n",
       "<table border=\"1\" class=\"dataframe\">\n",
       "  <thead>\n",
       "    <tr style=\"text-align: right;\">\n",
       "      <th></th>\n",
       "      <th>mpg</th>\n",
       "      <th>cylinders</th>\n",
       "      <th>displacement</th>\n",
       "      <th>horsepower</th>\n",
       "      <th>weight</th>\n",
       "      <th>acceleration</th>\n",
       "      <th>modelyear</th>\n",
       "      <th>origin</th>\n",
       "      <th>carname</th>\n",
       "    </tr>\n",
       "  </thead>\n",
       "  <tbody>\n",
       "    <tr>\n",
       "      <td>0</td>\n",
       "      <td>18.0</td>\n",
       "      <td>8</td>\n",
       "      <td>307.0</td>\n",
       "      <td>130.0</td>\n",
       "      <td>3504.0</td>\n",
       "      <td>12.0</td>\n",
       "      <td>70</td>\n",
       "      <td>1</td>\n",
       "      <td>chevrolet chevelle malibu</td>\n",
       "    </tr>\n",
       "    <tr>\n",
       "      <td>1</td>\n",
       "      <td>15.0</td>\n",
       "      <td>8</td>\n",
       "      <td>350.0</td>\n",
       "      <td>165.0</td>\n",
       "      <td>3693.0</td>\n",
       "      <td>11.5</td>\n",
       "      <td>70</td>\n",
       "      <td>1</td>\n",
       "      <td>buick skylark 320</td>\n",
       "    </tr>\n",
       "    <tr>\n",
       "      <td>2</td>\n",
       "      <td>18.0</td>\n",
       "      <td>8</td>\n",
       "      <td>318.0</td>\n",
       "      <td>150.0</td>\n",
       "      <td>3436.0</td>\n",
       "      <td>11.0</td>\n",
       "      <td>70</td>\n",
       "      <td>1</td>\n",
       "      <td>plymouth satellite</td>\n",
       "    </tr>\n",
       "  </tbody>\n",
       "</table>\n",
       "</div>"
      ],
      "text/plain": [
       "    mpg  cylinders  displacement horsepower  weight  acceleration  modelyear  \\\n",
       "0  18.0          8         307.0      130.0  3504.0          12.0         70   \n",
       "1  15.0          8         350.0      165.0  3693.0          11.5         70   \n",
       "2  18.0          8         318.0      150.0  3436.0          11.0         70   \n",
       "\n",
       "   origin                    carname  \n",
       "0       1  chevrolet chevelle malibu  \n",
       "1       1          buick skylark 320  \n",
       "2       1         plymouth satellite  "
      ]
     },
     "metadata": {},
     "output_type": "display_data"
    }
   ],
   "source": [
    "df = pd.read_csv('auto-mpg.data', sep='\\s+', header=None, \n",
    "                 names=['mpg', 'cylinders', 'displacement', 'horsepower', 'weight', 'acceleration', \n",
    "                        'modelyear', 'origin', 'carname'])\n",
    "\n",
    "display(df.head(3))"
   ]
  },
  {
   "cell_type": "markdown",
   "metadata": {},
   "source": [
    "## Data Preprocessing"
   ]
  },
  {
   "cell_type": "markdown",
   "metadata": {},
   "source": [
    "### Check for null, missing, incomplete, inappropriate values"
   ]
  },
  {
   "cell_type": "code",
   "execution_count": 465,
   "metadata": {},
   "outputs": [
    {
     "data": {
      "text/plain": [
       "mpg             0\n",
       "cylinders       0\n",
       "displacement    0\n",
       "horsepower      0\n",
       "weight          0\n",
       "acceleration    0\n",
       "modelyear       0\n",
       "origin          0\n",
       "carname         0\n",
       "dtype: int64"
      ]
     },
     "execution_count": 465,
     "metadata": {},
     "output_type": "execute_result"
    }
   ],
   "source": [
    "df.isnull().sum()\n"
   ]
  },
  {
   "cell_type": "code",
   "execution_count": 466,
   "metadata": {},
   "outputs": [
    {
     "name": "stdout",
     "output_type": "stream",
     "text": [
      "<class 'pandas.core.frame.DataFrame'>\n",
      "RangeIndex: 398 entries, 0 to 397\n",
      "Data columns (total 9 columns):\n",
      "mpg             398 non-null float64\n",
      "cylinders       398 non-null int64\n",
      "displacement    398 non-null float64\n",
      "horsepower      398 non-null object\n",
      "weight          398 non-null float64\n",
      "acceleration    398 non-null float64\n",
      "modelyear       398 non-null int64\n",
      "origin          398 non-null int64\n",
      "carname         398 non-null object\n",
      "dtypes: float64(4), int64(3), object(2)\n",
      "memory usage: 28.1+ KB\n"
     ]
    }
   ],
   "source": [
    "df.info()"
   ]
  },
  {
   "cell_type": "markdown",
   "metadata": {},
   "source": [
    "#### We see that horsepower column is percieved as object data type by Pandas, whereas we should be expecting a floating value. It means there is a string somewhere. Find that and deduce what to do."
   ]
  },
  {
   "cell_type": "markdown",
   "metadata": {},
   "source": [
    "##### 1. Display unique values in horsepower column"
   ]
  },
  {
   "cell_type": "code",
   "execution_count": 467,
   "metadata": {},
   "outputs": [
    {
     "data": {
      "text/plain": [
       "\"{'?', '160.0', '65.00', '129.0', '167.0', '66.00', '208.0', '103.0', '116.0', '60.00', '52.00', '92.00', '115.0', '139.0', '125.0', '70.00', '152.0', '97.00', '133.0', '210.0', '145.0', '90.00', '180.0', '63.00', '165.0', '84.00', '105.0', '158.0', '153.0', '95.00', '94.00', '77.00', '93.00', '72.00', '49.00', '48.00', '78.00', '71.00', '75.00', '148.0', '215.0', '76.00', '61.00', '108.0', '220.0', '46.00', '89.00', '80.00', '142.0', '200.0', '82.00', '54.00', '53.00', '102.0', '64.00', '86.00', '132.0', '79.00', '110.0', '138.0', '91.00', '112.0', '68.00', '130.0', '69.00', '100.0', '193.0', '85.00', '225.0', '87.00', '135.0', '96.00', '113.0', '83.00', '175.0', '140.0', '170.0', '137.0', '120.0', '107.0', '62.00', '198.0', '230.0', '67.00', '155.0', '88.00', '190.0', '149.0', '98.00', '150.0', '81.00', '122.0', '58.00', '74.00'}\""
      ]
     },
     "execution_count": 467,
     "metadata": {},
     "output_type": "execute_result"
    }
   ],
   "source": [
    "str(set(df['horsepower']))"
   ]
  },
  {
   "cell_type": "markdown",
   "metadata": {},
   "source": [
    "We can see that the only string present in the entire column is '?' in some rows. \n",
    "##### 2. Find percentage of non-numeric data in horsepower column"
   ]
  },
  {
   "cell_type": "code",
   "execution_count": 468,
   "metadata": {},
   "outputs": [
    {
     "name": "stdout",
     "output_type": "stream",
     "text": [
      "Percent of non-numeric data in horsepower  --> 1.507537688442211\n"
     ]
    }
   ],
   "source": [
    "print('Percent of non-numeric data in horsepower  -->', len([x for x in df['horsepower'] if x == '?']) / len(df['horsepower']) * 100)"
   ]
  },
  {
   "cell_type": "markdown",
   "metadata": {},
   "source": [
    "##### 3. It turns out that only 1.5% of data is corrupt. So remove those rows"
   ]
  },
  {
   "cell_type": "code",
   "execution_count": 469,
   "metadata": {},
   "outputs": [
    {
     "name": "stdout",
     "output_type": "stream",
     "text": [
      "all rubish values --> {'?'}\n",
      "Percent of identified rubbish data in Table --> 1.507537688442211\n"
     ]
    }
   ],
   "source": [
    "def removenotnum(list1):\n",
    "    notnum = []\n",
    "    for x in list1:\n",
    "        try:\n",
    "            float(x)\n",
    "        except:\n",
    "            notnum.append(x)\n",
    "    return notnum\n",
    "\n",
    "notnumtable = removenotnum(df['horsepower'])\n",
    "print('all rubish values -->', set(notnumtable))\n",
    "print('Percent of identified rubbish data in Table -->', len(notnumtable) / len(df['horsepower'])*100)"
   ]
  },
  {
   "cell_type": "code",
   "execution_count": 470,
   "metadata": {},
   "outputs": [
    {
     "name": "stdout",
     "output_type": "stream",
     "text": [
      "<class 'pandas.core.frame.DataFrame'>\n",
      "Int64Index: 392 entries, 0 to 397\n",
      "Data columns (total 9 columns):\n",
      "mpg             392 non-null float64\n",
      "cylinders       392 non-null int64\n",
      "displacement    392 non-null float64\n",
      "horsepower      392 non-null object\n",
      "weight          392 non-null float64\n",
      "acceleration    392 non-null float64\n",
      "modelyear       392 non-null int64\n",
      "origin          392 non-null int64\n",
      "carname         392 non-null object\n",
      "dtypes: float64(4), int64(3), object(2)\n",
      "memory usage: 30.6+ KB\n"
     ]
    }
   ],
   "source": [
    "indexnames = df[(df['horsepower'] == '?')].index\n",
    "indexnames\n",
    "df.drop(axis=0,index=indexnames,inplace=True)\n",
    "df.info()"
   ]
  },
  {
   "cell_type": "markdown",
   "metadata": {},
   "source": [
    "##### 4. Now convert the remaining cleane data to float"
   ]
  },
  {
   "cell_type": "code",
   "execution_count": 471,
   "metadata": {},
   "outputs": [],
   "source": [
    "df['horsepower'] = df['horsepower'].astype(float)\n"
   ]
  },
  {
   "cell_type": "code",
   "execution_count": 472,
   "metadata": {},
   "outputs": [
    {
     "name": "stdout",
     "output_type": "stream",
     "text": [
      "<class 'pandas.core.frame.DataFrame'>\n",
      "Int64Index: 392 entries, 0 to 397\n",
      "Data columns (total 9 columns):\n",
      "mpg             392 non-null float64\n",
      "cylinders       392 non-null int64\n",
      "displacement    392 non-null float64\n",
      "horsepower      392 non-null float64\n",
      "weight          392 non-null float64\n",
      "acceleration    392 non-null float64\n",
      "modelyear       392 non-null int64\n",
      "origin          392 non-null int64\n",
      "carname         392 non-null object\n",
      "dtypes: float64(5), int64(3), object(1)\n",
      "memory usage: 30.6+ KB\n"
     ]
    }
   ],
   "source": [
    "df.info()"
   ]
  },
  {
   "cell_type": "code",
   "execution_count": 473,
   "metadata": {},
   "outputs": [
    {
     "data": {
      "text/html": [
       "<div>\n",
       "<style scoped>\n",
       "    .dataframe tbody tr th:only-of-type {\n",
       "        vertical-align: middle;\n",
       "    }\n",
       "\n",
       "    .dataframe tbody tr th {\n",
       "        vertical-align: top;\n",
       "    }\n",
       "\n",
       "    .dataframe thead th {\n",
       "        text-align: right;\n",
       "    }\n",
       "</style>\n",
       "<table border=\"1\" class=\"dataframe\">\n",
       "  <thead>\n",
       "    <tr style=\"text-align: right;\">\n",
       "      <th></th>\n",
       "      <th>mpg</th>\n",
       "      <th>cylinders</th>\n",
       "      <th>displacement</th>\n",
       "      <th>horsepower</th>\n",
       "      <th>weight</th>\n",
       "      <th>acceleration</th>\n",
       "      <th>modelyear</th>\n",
       "      <th>origin</th>\n",
       "      <th>carname</th>\n",
       "    </tr>\n",
       "  </thead>\n",
       "  <tbody>\n",
       "    <tr>\n",
       "      <td>0</td>\n",
       "      <td>18.0</td>\n",
       "      <td>8</td>\n",
       "      <td>307.0</td>\n",
       "      <td>130.0</td>\n",
       "      <td>3504.0</td>\n",
       "      <td>12.0</td>\n",
       "      <td>70</td>\n",
       "      <td>1</td>\n",
       "      <td>chevrolet chevelle malibu</td>\n",
       "    </tr>\n",
       "    <tr>\n",
       "      <td>1</td>\n",
       "      <td>15.0</td>\n",
       "      <td>8</td>\n",
       "      <td>350.0</td>\n",
       "      <td>165.0</td>\n",
       "      <td>3693.0</td>\n",
       "      <td>11.5</td>\n",
       "      <td>70</td>\n",
       "      <td>1</td>\n",
       "      <td>buick skylark 320</td>\n",
       "    </tr>\n",
       "    <tr>\n",
       "      <td>2</td>\n",
       "      <td>18.0</td>\n",
       "      <td>8</td>\n",
       "      <td>318.0</td>\n",
       "      <td>150.0</td>\n",
       "      <td>3436.0</td>\n",
       "      <td>11.0</td>\n",
       "      <td>70</td>\n",
       "      <td>1</td>\n",
       "      <td>plymouth satellite</td>\n",
       "    </tr>\n",
       "  </tbody>\n",
       "</table>\n",
       "</div>"
      ],
      "text/plain": [
       "    mpg  cylinders  displacement  horsepower  weight  acceleration  modelyear  \\\n",
       "0  18.0          8         307.0       130.0  3504.0          12.0         70   \n",
       "1  15.0          8         350.0       165.0  3693.0          11.5         70   \n",
       "2  18.0          8         318.0       150.0  3436.0          11.0         70   \n",
       "\n",
       "   origin                    carname  \n",
       "0       1  chevrolet chevelle malibu  \n",
       "1       1          buick skylark 320  \n",
       "2       1         plymouth satellite  "
      ]
     },
     "metadata": {},
     "output_type": "display_data"
    }
   ],
   "source": [
    "display(df.head(3))"
   ]
  },
  {
   "cell_type": "markdown",
   "metadata": {},
   "source": [
    "## Data Visualisation"
   ]
  },
  {
   "cell_type": "markdown",
   "metadata": {},
   "source": [
    "### Pairplot of Miles per gallon (mpg) vs. all other parameters except car name"
   ]
  },
  {
   "cell_type": "code",
   "execution_count": 474,
   "metadata": {},
   "outputs": [
    {
     "data": {
      "text/plain": [
       "<seaborn.axisgrid.PairGrid at 0x1c2fb988320>"
      ]
     },
     "execution_count": 474,
     "metadata": {},
     "output_type": "execute_result"
    },
    {
     "data": {
      "image/png": "[encoded data removed]",
      "text/plain": [
       "<Figure size 1260x180 with 7 Axes>"
      ]
     },
     "metadata": {
      "needs_background": "light"
     },
     "output_type": "display_data"
    }
   ],
   "source": [
    "#sns.pairplot(df, x_vars=['cylinders', 'displacement', 'horsepower', 'weight', 'acceleration', 'modelyear', 'origin'], y_vars= ['mpg'])\n",
    "\n",
    "sns.pairplot(df, x_vars=df.drop(['carname','mpg'], axis=1, inplace=False).columns, y_vars= ['mpg'])"
   ]
  },
  {
   "cell_type": "markdown",
   "metadata": {},
   "source": [
    "### Histogram of all other parameters except car name"
   ]
  },
  {
   "cell_type": "code",
   "execution_count": 475,
   "metadata": {},
   "outputs": [
    {
     "data": {
      "image/png": "[encoded data removed]",
      "text/plain": [
       "<Figure size 1440x216 with 8 Axes>"
      ]
     },
     "metadata": {
      "needs_background": "light"
     },
     "output_type": "display_data"
    }
   ],
   "source": [
    "def histplot(df, listvar):\n",
    "    fig, axes = plt.subplots(nrows=1, ncols=len(listvar), figsize=(20, 3))\n",
    "    counter=0\n",
    "    for ax in axes:\n",
    "        df.hist(column=listvar[counter], bins=20, ax=axes[counter])\n",
    "        plt.ylabel('Price')\n",
    "        plt.xlabel(listvar[counter])\n",
    "        counter = counter+1\n",
    "    plt.show()\n",
    "    \n",
    "histplot(df, df.drop(['carname'], axis=1, inplace=False).columns)"
   ]
  },
  {
   "cell_type": "markdown",
   "metadata": {},
   "source": [
    "### Box plot to check outliers"
   ]
  },
  {
   "cell_type": "markdown",
   "metadata": {},
   "source": [
    "#### 1. Define boxplot user defined function "
   ]
  },
  {
   "cell_type": "code",
   "execution_count": 476,
   "metadata": {},
   "outputs": [],
   "source": [
    "def dfboxplot(df, listvars):\n",
    "    fig, axes = plt.subplots(nrows=1, ncols=len(listvars), figsize=(20, 3))\n",
    "    counter=0\n",
    "    for ax in axes:\n",
    "        df.boxplot(column=listvars[counter], ax=axes[counter])\n",
    "        plt.ylabel('Price')\n",
    "        plt.xlabel(listvars[counter])\n",
    "        counter = counter+1\n",
    "    plt.show()\n"
   ]
  },
  {
   "cell_type": "markdown",
   "metadata": {},
   "source": [
    "#### 2. Define list of continous variables and call boxplot for only those to detect outliers"
   ]
  },
  {
   "cell_type": "code",
   "execution_count": 477,
   "metadata": {},
   "outputs": [
    {
     "data": {
      "image/png": "[encoded data removed]",
      "text/plain": [
       "<Figure size 1440x216 with 8 Axes>"
      ]
     },
     "metadata": {
      "needs_background": "light"
     },
     "output_type": "display_data"
    }
   ],
   "source": [
    "linear_vars = df.select_dtypes(include=[np.number]).columns\n",
    "\n",
    "dfboxplot(df, linear_vars)"
   ]
  },
  {
   "cell_type": "markdown",
   "metadata": {},
   "source": [
    "#### 3. Remove outliers using z-score\n",
    "* https://stackoverflow.com/questions/23199796/detect-and-exclude-outliers-in-pandas-data-frame\n",
    "* https://medium.com/datadriveninvestor/finding-outliers-in-dataset-using-python-efc3fce6ce32\n",
    "* https://towardsdatascience.com/ways-to-detect-and-remove-the-outliers-404d16608dba"
   ]
  },
  {
   "cell_type": "code",
   "execution_count": 478,
   "metadata": {},
   "outputs": [
    {
     "name": "stdout",
     "output_type": "stream",
     "text": [
      "392\n"
     ]
    },
    {
     "data": {
      "image/png": "[encoded data removed]",
      "text/plain": [
       "<Figure size 1440x216 with 8 Axes>"
      ]
     },
     "metadata": {
      "needs_background": "light"
     },
     "output_type": "display_data"
    }
   ],
   "source": [
    "# this removes dataframe's outliers inplace\n",
    "def removeoutliers(df, listvars, z):\n",
    "    from scipy import stats\n",
    "    for var in listvars:\n",
    "        df1 = df[np.abs(stats.zscore(df[var])) < z]\n",
    "    return df1\n",
    "\n",
    "# remove outliers where z score > 2\n",
    "df = removeoutliers(df, linear_vars,2)\n",
    "\n",
    "# see length of dataframe with outliers removed\n",
    "print(len(df))\n",
    "\n",
    "# view boxplot to confirm removal of outliers\n",
    "dfboxplot(df, linear_vars)"
   ]
  },
  {
   "cell_type": "markdown",
   "metadata": {},
   "source": [
    "## Set up Machine learning model"
   ]
  },
  {
   "cell_type": "markdown",
   "metadata": {},
   "source": [
    "### Set up X and y"
   ]
  },
  {
   "cell_type": "code",
   "execution_count": 479,
   "metadata": {},
   "outputs": [
    {
     "data": {
      "text/html": [
       "<div>\n",
       "<style scoped>\n",
       "    .dataframe tbody tr th:only-of-type {\n",
       "        vertical-align: middle;\n",
       "    }\n",
       "\n",
       "    .dataframe tbody tr th {\n",
       "        vertical-align: top;\n",
       "    }\n",
       "\n",
       "    .dataframe thead th {\n",
       "        text-align: right;\n",
       "    }\n",
       "</style>\n",
       "<table border=\"1\" class=\"dataframe\">\n",
       "  <thead>\n",
       "    <tr style=\"text-align: right;\">\n",
       "      <th></th>\n",
       "      <th>cylinders</th>\n",
       "      <th>displacement</th>\n",
       "      <th>horsepower</th>\n",
       "      <th>weight</th>\n",
       "      <th>acceleration</th>\n",
       "      <th>modelyear</th>\n",
       "      <th>origin</th>\n",
       "    </tr>\n",
       "  </thead>\n",
       "  <tbody>\n",
       "    <tr>\n",
       "      <td>0</td>\n",
       "      <td>8</td>\n",
       "      <td>307.0</td>\n",
       "      <td>130.0</td>\n",
       "      <td>3504.0</td>\n",
       "      <td>12.0</td>\n",
       "      <td>70</td>\n",
       "      <td>1</td>\n",
       "    </tr>\n",
       "    <tr>\n",
       "      <td>1</td>\n",
       "      <td>8</td>\n",
       "      <td>350.0</td>\n",
       "      <td>165.0</td>\n",
       "      <td>3693.0</td>\n",
       "      <td>11.5</td>\n",
       "      <td>70</td>\n",
       "      <td>1</td>\n",
       "    </tr>\n",
       "    <tr>\n",
       "      <td>2</td>\n",
       "      <td>8</td>\n",
       "      <td>318.0</td>\n",
       "      <td>150.0</td>\n",
       "      <td>3436.0</td>\n",
       "      <td>11.0</td>\n",
       "      <td>70</td>\n",
       "      <td>1</td>\n",
       "    </tr>\n",
       "  </tbody>\n",
       "</table>\n",
       "</div>"
      ],
      "text/plain": [
       "   cylinders  displacement  horsepower  weight  acceleration  modelyear  \\\n",
       "0          8         307.0       130.0  3504.0          12.0         70   \n",
       "1          8         350.0       165.0  3693.0          11.5         70   \n",
       "2          8         318.0       150.0  3436.0          11.0         70   \n",
       "\n",
       "   origin  \n",
       "0       1  \n",
       "1       1  \n",
       "2       1  "
      ]
     },
     "metadata": {},
     "output_type": "display_data"
    },
    {
     "data": {
      "text/html": [
       "<div>\n",
       "<style scoped>\n",
       "    .dataframe tbody tr th:only-of-type {\n",
       "        vertical-align: middle;\n",
       "    }\n",
       "\n",
       "    .dataframe tbody tr th {\n",
       "        vertical-align: top;\n",
       "    }\n",
       "\n",
       "    .dataframe thead th {\n",
       "        text-align: right;\n",
       "    }\n",
       "</style>\n",
       "<table border=\"1\" class=\"dataframe\">\n",
       "  <thead>\n",
       "    <tr style=\"text-align: right;\">\n",
       "      <th></th>\n",
       "      <th>mpg</th>\n",
       "    </tr>\n",
       "  </thead>\n",
       "  <tbody>\n",
       "    <tr>\n",
       "      <td>0</td>\n",
       "      <td>18.0</td>\n",
       "    </tr>\n",
       "    <tr>\n",
       "      <td>1</td>\n",
       "      <td>15.0</td>\n",
       "    </tr>\n",
       "    <tr>\n",
       "      <td>2</td>\n",
       "      <td>18.0</td>\n",
       "    </tr>\n",
       "  </tbody>\n",
       "</table>\n",
       "</div>"
      ],
      "text/plain": [
       "    mpg\n",
       "0  18.0\n",
       "1  15.0\n",
       "2  18.0"
      ]
     },
     "metadata": {},
     "output_type": "display_data"
    }
   ],
   "source": [
    "X = df.drop(['carname','mpg'], axis=1, inplace=False)\n",
    "y = df[['mpg']]\n",
    "display(X.head(3))\n",
    "display(y.head(3))"
   ]
  },
  {
   "cell_type": "markdown",
   "metadata": {},
   "source": [
    "### Converting features and y to log"
   ]
  },
  {
   "cell_type": "code",
   "execution_count": 480,
   "metadata": {},
   "outputs": [
    {
     "data": {
      "image/png": "[encoded data removed]",
      "text/plain": [
       "<Figure size 1440x216 with 7 Axes>"
      ]
     },
     "metadata": {
      "needs_background": "light"
     },
     "output_type": "display_data"
    },
    {
     "data": {
      "text/plain": [
       "array([[<matplotlib.axes._subplots.AxesSubplot object at 0x000001C288D12CC0>]],\n",
       "      dtype=object)"
      ]
     },
     "execution_count": 480,
     "metadata": {},
     "output_type": "execute_result"
    },
    {
     "data": {
      "image/png": "[encoded data removed]",
      "text/plain": [
       "<Figure size 432x288 with 1 Axes>"
      ]
     },
     "metadata": {
      "needs_background": "light"
     },
     "output_type": "display_data"
    }
   ],
   "source": [
    "def convertfeatures2log(df, listvars):\n",
    "    for var in listvars:\n",
    "        df[var] = np.log(df[var])\n",
    "\n",
    "convertfeatures2log(X, X.columns)\n",
    "convertfeatures2log(y, y.columns)\n",
    "\n",
    "histplot(X, X.columns)\n",
    "y.hist(bins=20)"
   ]
  },
  {
   "cell_type": "code",
   "execution_count": 481,
   "metadata": {},
   "outputs": [
    {
     "data": {
      "text/html": [
       "<div>\n",
       "<style scoped>\n",
       "    .dataframe tbody tr th:only-of-type {\n",
       "        vertical-align: middle;\n",
       "    }\n",
       "\n",
       "    .dataframe tbody tr th {\n",
       "        vertical-align: top;\n",
       "    }\n",
       "\n",
       "    .dataframe thead th {\n",
       "        text-align: right;\n",
       "    }\n",
       "</style>\n",
       "<table border=\"1\" class=\"dataframe\">\n",
       "  <thead>\n",
       "    <tr style=\"text-align: right;\">\n",
       "      <th></th>\n",
       "      <th>cylinders</th>\n",
       "      <th>displacement</th>\n",
       "      <th>horsepower</th>\n",
       "      <th>weight</th>\n",
       "      <th>acceleration</th>\n",
       "      <th>modelyear</th>\n",
       "      <th>origin</th>\n",
       "    </tr>\n",
       "  </thead>\n",
       "  <tbody>\n",
       "    <tr>\n",
       "      <td>0</td>\n",
       "      <td>2.079442</td>\n",
       "      <td>5.726848</td>\n",
       "      <td>4.867534</td>\n",
       "      <td>8.161660</td>\n",
       "      <td>2.484907</td>\n",
       "      <td>4.248495</td>\n",
       "      <td>0.0</td>\n",
       "    </tr>\n",
       "    <tr>\n",
       "      <td>1</td>\n",
       "      <td>2.079442</td>\n",
       "      <td>5.857933</td>\n",
       "      <td>5.105945</td>\n",
       "      <td>8.214194</td>\n",
       "      <td>2.442347</td>\n",
       "      <td>4.248495</td>\n",
       "      <td>0.0</td>\n",
       "    </tr>\n",
       "    <tr>\n",
       "      <td>2</td>\n",
       "      <td>2.079442</td>\n",
       "      <td>5.762051</td>\n",
       "      <td>5.010635</td>\n",
       "      <td>8.142063</td>\n",
       "      <td>2.397895</td>\n",
       "      <td>4.248495</td>\n",
       "      <td>0.0</td>\n",
       "    </tr>\n",
       "  </tbody>\n",
       "</table>\n",
       "</div>"
      ],
      "text/plain": [
       "   cylinders  displacement  horsepower    weight  acceleration  modelyear  \\\n",
       "0   2.079442      5.726848    4.867534  8.161660      2.484907   4.248495   \n",
       "1   2.079442      5.857933    5.105945  8.214194      2.442347   4.248495   \n",
       "2   2.079442      5.762051    5.010635  8.142063      2.397895   4.248495   \n",
       "\n",
       "   origin  \n",
       "0     0.0  \n",
       "1     0.0  \n",
       "2     0.0  "
      ]
     },
     "metadata": {},
     "output_type": "display_data"
    },
    {
     "data": {
      "text/html": [
       "<div>\n",
       "<style scoped>\n",
       "    .dataframe tbody tr th:only-of-type {\n",
       "        vertical-align: middle;\n",
       "    }\n",
       "\n",
       "    .dataframe tbody tr th {\n",
       "        vertical-align: top;\n",
       "    }\n",
       "\n",
       "    .dataframe thead th {\n",
       "        text-align: right;\n",
       "    }\n",
       "</style>\n",
       "<table border=\"1\" class=\"dataframe\">\n",
       "  <thead>\n",
       "    <tr style=\"text-align: right;\">\n",
       "      <th></th>\n",
       "      <th>mpg</th>\n",
       "    </tr>\n",
       "  </thead>\n",
       "  <tbody>\n",
       "    <tr>\n",
       "      <td>0</td>\n",
       "      <td>2.890372</td>\n",
       "    </tr>\n",
       "    <tr>\n",
       "      <td>1</td>\n",
       "      <td>2.708050</td>\n",
       "    </tr>\n",
       "    <tr>\n",
       "      <td>2</td>\n",
       "      <td>2.890372</td>\n",
       "    </tr>\n",
       "  </tbody>\n",
       "</table>\n",
       "</div>"
      ],
      "text/plain": [
       "        mpg\n",
       "0  2.890372\n",
       "1  2.708050\n",
       "2  2.890372"
      ]
     },
     "metadata": {},
     "output_type": "display_data"
    }
   ],
   "source": [
    "display(X.head(3))\n",
    "display(y.head(3))"
   ]
  },
  {
   "cell_type": "markdown",
   "metadata": {},
   "source": [
    "## Test Train Split"
   ]
  },
  {
   "cell_type": "code",
   "execution_count": 482,
   "metadata": {},
   "outputs": [
    {
     "data": {
      "text/html": [
       "<div>\n",
       "<style scoped>\n",
       "    .dataframe tbody tr th:only-of-type {\n",
       "        vertical-align: middle;\n",
       "    }\n",
       "\n",
       "    .dataframe tbody tr th {\n",
       "        vertical-align: top;\n",
       "    }\n",
       "\n",
       "    .dataframe thead th {\n",
       "        text-align: right;\n",
       "    }\n",
       "</style>\n",
       "<table border=\"1\" class=\"dataframe\">\n",
       "  <thead>\n",
       "    <tr style=\"text-align: right;\">\n",
       "      <th></th>\n",
       "      <th>cylinders</th>\n",
       "      <th>displacement</th>\n",
       "      <th>horsepower</th>\n",
       "      <th>weight</th>\n",
       "      <th>acceleration</th>\n",
       "      <th>modelyear</th>\n",
       "      <th>origin</th>\n",
       "    </tr>\n",
       "  </thead>\n",
       "  <tbody>\n",
       "    <tr>\n",
       "      <td>110</td>\n",
       "      <td>1.386294</td>\n",
       "      <td>4.682131</td>\n",
       "      <td>4.543295</td>\n",
       "      <td>7.774436</td>\n",
       "      <td>2.803360</td>\n",
       "      <td>4.290459</td>\n",
       "      <td>1.098612</td>\n",
       "    </tr>\n",
       "    <tr>\n",
       "      <td>17</td>\n",
       "      <td>1.791759</td>\n",
       "      <td>5.298317</td>\n",
       "      <td>4.442651</td>\n",
       "      <td>7.858254</td>\n",
       "      <td>2.772589</td>\n",
       "      <td>4.248495</td>\n",
       "      <td>0.000000</td>\n",
       "    </tr>\n",
       "  </tbody>\n",
       "</table>\n",
       "</div>"
      ],
      "text/plain": [
       "     cylinders  displacement  horsepower    weight  acceleration  modelyear  \\\n",
       "110   1.386294      4.682131    4.543295  7.774436      2.803360   4.290459   \n",
       "17    1.791759      5.298317    4.442651  7.858254      2.772589   4.248495   \n",
       "\n",
       "       origin  \n",
       "110  1.098612  \n",
       "17   0.000000  "
      ]
     },
     "metadata": {},
     "output_type": "display_data"
    },
    {
     "data": {
      "text/html": [
       "<div>\n",
       "<style scoped>\n",
       "    .dataframe tbody tr th:only-of-type {\n",
       "        vertical-align: middle;\n",
       "    }\n",
       "\n",
       "    .dataframe tbody tr th {\n",
       "        vertical-align: top;\n",
       "    }\n",
       "\n",
       "    .dataframe thead th {\n",
       "        text-align: right;\n",
       "    }\n",
       "</style>\n",
       "<table border=\"1\" class=\"dataframe\">\n",
       "  <thead>\n",
       "    <tr style=\"text-align: right;\">\n",
       "      <th></th>\n",
       "      <th>mpg</th>\n",
       "    </tr>\n",
       "  </thead>\n",
       "  <tbody>\n",
       "    <tr>\n",
       "      <td>110</td>\n",
       "      <td>3.091042</td>\n",
       "    </tr>\n",
       "    <tr>\n",
       "      <td>17</td>\n",
       "      <td>3.044522</td>\n",
       "    </tr>\n",
       "  </tbody>\n",
       "</table>\n",
       "</div>"
      ],
      "text/plain": [
       "          mpg\n",
       "110  3.091042\n",
       "17   3.044522"
      ]
     },
     "metadata": {},
     "output_type": "display_data"
    }
   ],
   "source": [
    "from sklearn.model_selection import train_test_split\n",
    "X_train, X_test, y_train, y_test = train_test_split(X, y, test_size=0.3, random_state=42)\n",
    "\n",
    "display(X_train.head(2))\n",
    "display(y_train.head(2))"
   ]
  },
  {
   "cell_type": "markdown",
   "metadata": {},
   "source": [
    "## Run Random Forest Algo"
   ]
  },
  {
   "cell_type": "markdown",
   "metadata": {},
   "source": [
    "#### Initate and call the RandomForestRegressor function"
   ]
  },
  {
   "cell_type": "code",
   "execution_count": 507,
   "metadata": {},
   "outputs": [],
   "source": [
    "rf = RandomForestRegressor(n_estimators=300)\n",
    "rf.fit(X_train,y_train)\n",
    "y_pred = rf.predict(X_test)"
   ]
  },
  {
   "cell_type": "code",
   "execution_count": 530,
   "metadata": {},
   "outputs": [
    {
     "data": {
      "text/plain": [
       "{0.0, 0.6931471805599453, 1.0986122886681098}"
      ]
     },
     "execution_count": 530,
     "metadata": {},
     "output_type": "execute_result"
    }
   ],
   "source": [
    "set(X_train['origin'])"
   ]
  },
  {
   "cell_type": "markdown",
   "metadata": {},
   "source": [
    "#### Plot a scatterplot using matplotlib and seaborn for predictions vs. actuals \n",
    "- ML algo log results vs. log of mpg in dataset\n",
    "- exponent of predicted values vs. real mpg in dataset"
   ]
  },
  {
   "cell_type": "code",
   "execution_count": 560,
   "metadata": {},
   "outputs": [
    {
     "data": {
      "text/plain": [
       "Text(0, 0.5, 'predicted MPG')"
      ]
     },
     "execution_count": 560,
     "metadata": {},
     "output_type": "execute_result"
    },
    {
     "data": {
      "image/png": "[encoded data removed]",
      "text/plain": [
       "<Figure size 864x360 with 2 Axes>"
      ]
     },
     "metadata": {
      "needs_background": "light"
     },
     "output_type": "display_data"
    }
   ],
   "source": [
    "import matplotlib.gridspec as gridspec\n",
    "\n",
    "fig = plt.figure(figsize=(12,5))\n",
    "grid = gridspec.GridSpec(ncols=2, nrows=1, figure=fig)\n",
    "\n",
    "ax1 = fig.add_subplot(grid[0, 0])\n",
    "ax2 = fig.add_subplot(grid[0, 1])\n",
    "\n",
    "sns.scatterplot(x = y_test['mpg'], y = y_pred, ax=ax1)\n",
    "sns.regplot(x = y_test['mpg'], y=y_pred, ax=ax1)\n",
    "ax1.set_title(\"Log of Predictions vs. actuals\")\n",
    "ax1.set_xlabel('Actual MPG')\n",
    "ax1.set_ylabel('predicted MPG')\n",
    "\n",
    "sns.scatterplot(x = np.exp(y_test['mpg']), y = np.exp(y_pred), ax=ax2,)\n",
    "sns.regplot(x = np.exp(y_test['mpg']), y=np.exp(y_pred), ax=ax2)\n",
    "ax2.set_title(\"Real values of Predictions vs. actuals\")\n",
    "ax2.set_xlabel('Actual MPG')\n",
    "ax2.set_ylabel('predicted MPG')"
   ]
  },
  {
   "cell_type": "code",
   "execution_count": 562,
   "metadata": {},
   "outputs": [
    {
     "name": "stdout",
     "output_type": "stream",
     "text": [
      "MAE: 0.07270868117493247\n",
      "MSE: 0.009611197970657645\n",
      "RMSE: 0.0980367174616615\n"
     ]
    }
   ],
   "source": [
    "print('MAE:', metrics.mean_absolute_error(y_test, y_pred))\n",
    "print('MSE:', metrics.mean_squared_error(y_test, y_pred))\n",
    "print('RMSE:', np.sqrt(metrics.mean_squared_error(y_test, y_pred)))"
   ]
  },
  {
   "cell_type": "markdown",
   "metadata": {},
   "source": [
    "## Select the best Machine Learning model for this regression problem "
   ]
  },
  {
   "cell_type": "markdown",
   "metadata": {},
   "source": [
    "Ignore all warnings"
   ]
  },
  {
   "cell_type": "code",
   "execution_count": 563,
   "metadata": {},
   "outputs": [],
   "source": [
    "import warnings\n",
    "warnings.filterwarnings(\"ignore\")"
   ]
  },
  {
   "cell_type": "markdown",
   "metadata": {},
   "source": [
    "- <b><i>cros_val_score</i></b> returns Array of scores of the estimator for each run of the cross validation\n",
    "- <b><i>Kfold</i></b> splits the data into <i>n_splits</i> number of folds where for <i>n_splits</i> times, the dataset will randomly be split into train and test sets\n",
    "\n",
    "See the following page for better explanation of cros_val_score and KFold and their use\n",
    "<br> https://www.pythonforengineers.com/cross-validation-and-model-selection/\n"
   ]
  },
  {
   "cell_type": "markdown",
   "metadata": {},
   "source": [
    "#### Testing common ML regression algos and finalising on the best based on estimator score "
   ]
  },
  {
   "cell_type": "code",
   "execution_count": 564,
   "metadata": {},
   "outputs": [
    {
     "name": "stdout",
     "output_type": "stream",
     "text": [
      "model: mean of score across 10 folds (std dev of score)\n",
      "LR: 0.878770 (0.042622)\n",
      "RF: 0.880276 (0.053347)\n",
      "KNN: 0.796948 (0.092200)\n",
      "CART: 0.820365 (0.054995)\n",
      "SVR: 0.840068 (0.066258)\n"
     ]
    }
   ],
   "source": [
    "from sklearn.linear_model import LinearRegression\n",
    "from sklearn.tree import DecisionTreeRegressor\n",
    "from sklearn.neighbors import KNeighborsRegressor\n",
    "from sklearn.svm import SVR\n",
    "from sklearn.ensemble import RandomForestRegressor\n",
    "\n",
    "models=[]\n",
    "\n",
    "models.append(('LR', LinearRegression()))\n",
    "models.append(('RF', RandomForestRegressor(n_estimators=100)))\n",
    "models.append(('KNN', KNeighborsRegressor()))\n",
    "models.append(('CART', DecisionTreeRegressor()))\n",
    "models.append(('SVR',SVR(gamma='auto')))\n",
    "\n",
    "# now evaluate each model \n",
    "results = []\n",
    "names = []\n",
    "print(\"model: mean of score across 10 folds (std dev of score)\")\n",
    "for name, model in models:\n",
    "    # --> split training dataset into 10 parts; train on 9 and test on 1; repeat for all combinations.\n",
    "    kfold = KFold (n_splits=10, random_state=42);\n",
    "    cv_results = cross_val_score(model, X_train, y_train, cv=kfold);\n",
    "    results.append(cv_results);\n",
    "    names.append(name)\n",
    "    msg = \"%s: %f (%f)\" % (name, cv_results.mean(), cv_results.std())\n",
    "    print(msg)\n",
    "    "
   ]
  },
  {
   "cell_type": "markdown",
   "metadata": {},
   "source": [
    "https://stackoverflow.com/questions/41458834/how-is-scikit-learn-cross-val-predict-accuracy-score-calculated/41524968#41524968\n",
    "https://stackoverflow.com/questions/43613443/difference-between-cross-val-score-and-cross-val-predict"
   ]
  },
  {
   "cell_type": "raw",
   "metadata": {},
   "source": [
    "from sklearn.model_selection import cross_val_predict\n",
    "p = cross_val_predict(X_train, y_train, cv=2)\n",
    "\n"
   ]
  },
  {
   "cell_type": "markdown",
   "metadata": {},
   "source": [
    "It seems the best algo is Linear Regression or Random forest"
   ]
  },
  {
   "cell_type": "markdown",
   "metadata": {},
   "source": [
    "## Run backward elimination to select best features (feature selection)\n",
    "- This is just an exercise but is not really needed for this project because it if most useful to reduce the number of features when there are hundreds or thousands of features.\n"
   ]
  },
  {
   "cell_type": "markdown",
   "metadata": {},
   "source": [
    "Backward elimination -> \n",
    "- select a significance level e.g. P-score = 0.05\n",
    "- fit model with all predictors (features)\n",
    "- consider predictor with highest P-score. If P-score > significance level, go to step 4, else stop\n",
    "- remove that predictor and fit model w/o this\n",
    "- go to step 3\n"
   ]
  },
  {
   "cell_type": "markdown",
   "metadata": {},
   "source": [
    "#### Start the first one with all predictors"
   ]
  },
  {
   "cell_type": "code",
   "execution_count": 412,
   "metadata": {},
   "outputs": [
    {
     "data": {
      "text/html": [
       "<table class=\"simpletable\">\n",
       "<caption>OLS Regression Results</caption>\n",
       "<tr>\n",
       "  <th>Dep. Variable:</th>           <td>mpg</td>       <th>  R-squared:         </th> <td>   0.895</td> \n",
       "</tr>\n",
       "<tr>\n",
       "  <th>Model:</th>                   <td>OLS</td>       <th>  Adj. R-squared:    </th> <td>   0.892</td> \n",
       "</tr>\n",
       "<tr>\n",
       "  <th>Method:</th>             <td>Least Squares</td>  <th>  F-statistic:       </th> <td>   323.0</td> \n",
       "</tr>\n",
       "<tr>\n",
       "  <th>Date:</th>             <td>Thu, 19 Dec 2019</td> <th>  Prob (F-statistic):</th> <td>4.35e-126</td>\n",
       "</tr>\n",
       "<tr>\n",
       "  <th>Time:</th>                 <td>16:55:01</td>     <th>  Log-Likelihood:    </th> <td>  209.62</td> \n",
       "</tr>\n",
       "<tr>\n",
       "  <th>No. Observations:</th>      <td>   274</td>      <th>  AIC:               </th> <td>  -403.2</td> \n",
       "</tr>\n",
       "<tr>\n",
       "  <th>Df Residuals:</th>          <td>   266</td>      <th>  BIC:               </th> <td>  -374.3</td> \n",
       "</tr>\n",
       "<tr>\n",
       "  <th>Df Model:</th>              <td>     7</td>      <th>                     </th>     <td> </td>    \n",
       "</tr>\n",
       "<tr>\n",
       "  <th>Covariance Type:</th>      <td>nonrobust</td>    <th>                     </th>     <td> </td>    \n",
       "</tr>\n",
       "</table>\n",
       "<table class=\"simpletable\">\n",
       "<tr>\n",
       "    <td></td>       <th>coef</th>     <th>std err</th>      <th>t</th>      <th>P>|t|</th>  <th>[0.025</th>    <th>0.975]</th>  \n",
       "</tr>\n",
       "<tr>\n",
       "  <th>const</th> <td>   -0.1020</td> <td>    0.807</td> <td>   -0.126</td> <td> 0.899</td> <td>   -1.690</td> <td>    1.486</td>\n",
       "</tr>\n",
       "<tr>\n",
       "  <th>x1</th>    <td>   -0.0868</td> <td>    0.075</td> <td>   -1.160</td> <td> 0.247</td> <td>   -0.234</td> <td>    0.060</td>\n",
       "</tr>\n",
       "<tr>\n",
       "  <th>x2</th>    <td>    0.0076</td> <td>    0.070</td> <td>    0.109</td> <td> 0.913</td> <td>   -0.130</td> <td>    0.145</td>\n",
       "</tr>\n",
       "<tr>\n",
       "  <th>x3</th>    <td>   -0.3640</td> <td>    0.069</td> <td>   -5.293</td> <td> 0.000</td> <td>   -0.499</td> <td>   -0.229</td>\n",
       "</tr>\n",
       "<tr>\n",
       "  <th>x4</th>    <td>   -0.5169</td> <td>    0.099</td> <td>   -5.235</td> <td> 0.000</td> <td>   -0.711</td> <td>   -0.323</td>\n",
       "</tr>\n",
       "<tr>\n",
       "  <th>x5</th>    <td>   -0.2161</td> <td>    0.071</td> <td>   -3.061</td> <td> 0.002</td> <td>   -0.355</td> <td>   -0.077</td>\n",
       "</tr>\n",
       "<tr>\n",
       "  <th>x6</th>    <td>    2.2317</td> <td>    0.166</td> <td>   13.430</td> <td> 0.000</td> <td>    1.905</td> <td>    2.559</td>\n",
       "</tr>\n",
       "<tr>\n",
       "  <th>x7</th>    <td>    0.0648</td> <td>    0.023</td> <td>    2.830</td> <td> 0.005</td> <td>    0.020</td> <td>    0.110</td>\n",
       "</tr>\n",
       "</table>\n",
       "<table class=\"simpletable\">\n",
       "<tr>\n",
       "  <th>Omnibus:</th>       <td> 4.098</td> <th>  Durbin-Watson:     </th> <td>   1.955</td>\n",
       "</tr>\n",
       "<tr>\n",
       "  <th>Prob(Omnibus):</th> <td> 0.129</td> <th>  Jarque-Bera (JB):  </th> <td>   4.817</td>\n",
       "</tr>\n",
       "<tr>\n",
       "  <th>Skew:</th>          <td> 0.098</td> <th>  Prob(JB):          </th> <td>  0.0900</td>\n",
       "</tr>\n",
       "<tr>\n",
       "  <th>Kurtosis:</th>      <td> 3.619</td> <th>  Cond. No.          </th> <td>1.41e+03</td>\n",
       "</tr>\n",
       "</table><br/><br/>Warnings:<br/>[1] Standard Errors assume that the covariance matrix of the errors is correctly specified.<br/>[2] The condition number is large, 1.41e+03. This might indicate that there are<br/>strong multicollinearity or other numerical problems."
      ],
      "text/plain": [
       "<class 'statsmodels.iolib.summary.Summary'>\n",
       "\"\"\"\n",
       "                            OLS Regression Results                            \n",
       "==============================================================================\n",
       "Dep. Variable:                    mpg   R-squared:                       0.895\n",
       "Model:                            OLS   Adj. R-squared:                  0.892\n",
       "Method:                 Least Squares   F-statistic:                     323.0\n",
       "Date:                Thu, 19 Dec 2019   Prob (F-statistic):          4.35e-126\n",
       "Time:                        16:55:01   Log-Likelihood:                 209.62\n",
       "No. Observations:                 274   AIC:                            -403.2\n",
       "Df Residuals:                     266   BIC:                            -374.3\n",
       "Df Model:                           7                                         \n",
       "Covariance Type:            nonrobust                                         \n",
       "==============================================================================\n",
       "                 coef    std err          t      P>|t|      [0.025      0.975]\n",
       "------------------------------------------------------------------------------\n",
       "const         -0.1020      0.807     -0.126      0.899      -1.690       1.486\n",
       "x1            -0.0868      0.075     -1.160      0.247      -0.234       0.060\n",
       "x2             0.0076      0.070      0.109      0.913      -0.130       0.145\n",
       "x3            -0.3640      0.069     -5.293      0.000      -0.499      -0.229\n",
       "x4            -0.5169      0.099     -5.235      0.000      -0.711      -0.323\n",
       "x5            -0.2161      0.071     -3.061      0.002      -0.355      -0.077\n",
       "x6             2.2317      0.166     13.430      0.000       1.905       2.559\n",
       "x7             0.0648      0.023      2.830      0.005       0.020       0.110\n",
       "==============================================================================\n",
       "Omnibus:                        4.098   Durbin-Watson:                   1.955\n",
       "Prob(Omnibus):                  0.129   Jarque-Bera (JB):                4.817\n",
       "Skew:                           0.098   Prob(JB):                       0.0900\n",
       "Kurtosis:                       3.619   Cond. No.                     1.41e+03\n",
       "==============================================================================\n",
       "\n",
       "Warnings:\n",
       "[1] Standard Errors assume that the covariance matrix of the errors is correctly specified.\n",
       "[2] The condition number is large, 1.41e+03. This might indicate that there are\n",
       "strong multicollinearity or other numerical problems.\n",
       "\"\"\""
      ]
     },
     "execution_count": 412,
     "metadata": {},
     "output_type": "execute_result"
    }
   ],
   "source": [
    "import statsmodels.api as sm\n",
    "\n",
    "X_train_opt = np.append(arr = np.ones((274,1)).astype(int), values = X_train, axis = 1)\n",
    "X_train_opt = X_train_opt[:,[0, 1, 2, 3, 4, 5, 6, 7]]\n",
    "regressor_OLS = sm.OLS(endog = y_train, exog = X_train_opt).fit()\n",
    "regressor_OLS.summary()\n"
   ]
  },
  {
   "cell_type": "markdown",
   "metadata": {},
   "source": [
    "#### Remove the 2nd feature"
   ]
  },
  {
   "cell_type": "code",
   "execution_count": 413,
   "metadata": {},
   "outputs": [
    {
     "data": {
      "text/html": [
       "<table class=\"simpletable\">\n",
       "<caption>OLS Regression Results</caption>\n",
       "<tr>\n",
       "  <th>Dep. Variable:</th>           <td>mpg</td>       <th>  R-squared:         </th> <td>   0.895</td> \n",
       "</tr>\n",
       "<tr>\n",
       "  <th>Model:</th>                   <td>OLS</td>       <th>  Adj. R-squared:    </th> <td>   0.892</td> \n",
       "</tr>\n",
       "<tr>\n",
       "  <th>Method:</th>             <td>Least Squares</td>  <th>  F-statistic:       </th> <td>   378.3</td> \n",
       "</tr>\n",
       "<tr>\n",
       "  <th>Date:</th>             <td>Thu, 19 Dec 2019</td> <th>  Prob (F-statistic):</th> <td>2.15e-127</td>\n",
       "</tr>\n",
       "<tr>\n",
       "  <th>Time:</th>                 <td>16:55:01</td>     <th>  Log-Likelihood:    </th> <td>  209.61</td> \n",
       "</tr>\n",
       "<tr>\n",
       "  <th>No. Observations:</th>      <td>   274</td>      <th>  AIC:               </th> <td>  -405.2</td> \n",
       "</tr>\n",
       "<tr>\n",
       "  <th>Df Residuals:</th>          <td>   267</td>      <th>  BIC:               </th> <td>  -379.9</td> \n",
       "</tr>\n",
       "<tr>\n",
       "  <th>Df Model:</th>              <td>     6</td>      <th>                     </th>     <td> </td>    \n",
       "</tr>\n",
       "<tr>\n",
       "  <th>Covariance Type:</th>      <td>nonrobust</td>    <th>                     </th>     <td> </td>    \n",
       "</tr>\n",
       "</table>\n",
       "<table class=\"simpletable\">\n",
       "<tr>\n",
       "    <td></td>       <th>coef</th>     <th>std err</th>      <th>t</th>      <th>P>|t|</th>  <th>[0.025</th>    <th>0.975]</th>  \n",
       "</tr>\n",
       "<tr>\n",
       "  <th>const</th> <td>   -0.1135</td> <td>    0.798</td> <td>   -0.142</td> <td> 0.887</td> <td>   -1.685</td> <td>    1.458</td>\n",
       "</tr>\n",
       "<tr>\n",
       "  <th>x1</th>    <td>   -0.0809</td> <td>    0.052</td> <td>   -1.563</td> <td> 0.119</td> <td>   -0.183</td> <td>    0.021</td>\n",
       "</tr>\n",
       "<tr>\n",
       "  <th>x2</th>    <td>   -0.3642</td> <td>    0.069</td> <td>   -5.308</td> <td> 0.000</td> <td>   -0.499</td> <td>   -0.229</td>\n",
       "</tr>\n",
       "<tr>\n",
       "  <th>x3</th>    <td>   -0.5105</td> <td>    0.079</td> <td>   -6.453</td> <td> 0.000</td> <td>   -0.666</td> <td>   -0.355</td>\n",
       "</tr>\n",
       "<tr>\n",
       "  <th>x4</th>    <td>   -0.2180</td> <td>    0.068</td> <td>   -3.197</td> <td> 0.002</td> <td>   -0.352</td> <td>   -0.084</td>\n",
       "</tr>\n",
       "<tr>\n",
       "  <th>x5</th>    <td>    2.2309</td> <td>    0.166</td> <td>   13.464</td> <td> 0.000</td> <td>    1.905</td> <td>    2.557</td>\n",
       "</tr>\n",
       "<tr>\n",
       "  <th>x6</th>    <td>    0.0636</td> <td>    0.020</td> <td>    3.237</td> <td> 0.001</td> <td>    0.025</td> <td>    0.102</td>\n",
       "</tr>\n",
       "</table>\n",
       "<table class=\"simpletable\">\n",
       "<tr>\n",
       "  <th>Omnibus:</th>       <td> 4.202</td> <th>  Durbin-Watson:     </th> <td>   1.955</td>\n",
       "</tr>\n",
       "<tr>\n",
       "  <th>Prob(Omnibus):</th> <td> 0.122</td> <th>  Jarque-Bera (JB):  </th> <td>   4.988</td>\n",
       "</tr>\n",
       "<tr>\n",
       "  <th>Skew:</th>          <td> 0.099</td> <th>  Prob(JB):          </th> <td>  0.0826</td>\n",
       "</tr>\n",
       "<tr>\n",
       "  <th>Kurtosis:</th>      <td> 3.631</td> <th>  Cond. No.          </th> <td>1.26e+03</td>\n",
       "</tr>\n",
       "</table><br/><br/>Warnings:<br/>[1] Standard Errors assume that the covariance matrix of the errors is correctly specified.<br/>[2] The condition number is large, 1.26e+03. This might indicate that there are<br/>strong multicollinearity or other numerical problems."
      ],
      "text/plain": [
       "<class 'statsmodels.iolib.summary.Summary'>\n",
       "\"\"\"\n",
       "                            OLS Regression Results                            \n",
       "==============================================================================\n",
       "Dep. Variable:                    mpg   R-squared:                       0.895\n",
       "Model:                            OLS   Adj. R-squared:                  0.892\n",
       "Method:                 Least Squares   F-statistic:                     378.3\n",
       "Date:                Thu, 19 Dec 2019   Prob (F-statistic):          2.15e-127\n",
       "Time:                        16:55:01   Log-Likelihood:                 209.61\n",
       "No. Observations:                 274   AIC:                            -405.2\n",
       "Df Residuals:                     267   BIC:                            -379.9\n",
       "Df Model:                           6                                         \n",
       "Covariance Type:            nonrobust                                         \n",
       "==============================================================================\n",
       "                 coef    std err          t      P>|t|      [0.025      0.975]\n",
       "------------------------------------------------------------------------------\n",
       "const         -0.1135      0.798     -0.142      0.887      -1.685       1.458\n",
       "x1            -0.0809      0.052     -1.563      0.119      -0.183       0.021\n",
       "x2            -0.3642      0.069     -5.308      0.000      -0.499      -0.229\n",
       "x3            -0.5105      0.079     -6.453      0.000      -0.666      -0.355\n",
       "x4            -0.2180      0.068     -3.197      0.002      -0.352      -0.084\n",
       "x5             2.2309      0.166     13.464      0.000       1.905       2.557\n",
       "x6             0.0636      0.020      3.237      0.001       0.025       0.102\n",
       "==============================================================================\n",
       "Omnibus:                        4.202   Durbin-Watson:                   1.955\n",
       "Prob(Omnibus):                  0.122   Jarque-Bera (JB):                4.988\n",
       "Skew:                           0.099   Prob(JB):                       0.0826\n",
       "Kurtosis:                       3.631   Cond. No.                     1.26e+03\n",
       "==============================================================================\n",
       "\n",
       "Warnings:\n",
       "[1] Standard Errors assume that the covariance matrix of the errors is correctly specified.\n",
       "[2] The condition number is large, 1.26e+03. This might indicate that there are\n",
       "strong multicollinearity or other numerical problems.\n",
       "\"\"\""
      ]
     },
     "execution_count": 413,
     "metadata": {},
     "output_type": "execute_result"
    }
   ],
   "source": [
    "X_train_opt = X_train_opt[:,[0, 1, 3, 4, 5, 6, 7]]\n",
    "regressor_OLS = sm.OLS(endog = y_train, exog = X_train_opt).fit()\n",
    "regressor_OLS.summary()"
   ]
  },
  {
   "cell_type": "markdown",
   "metadata": {},
   "source": [
    "#### Now, remove the 1st feature too"
   ]
  },
  {
   "cell_type": "code",
   "execution_count": 414,
   "metadata": {},
   "outputs": [
    {
     "data": {
      "text/html": [
       "<table class=\"simpletable\">\n",
       "<caption>OLS Regression Results</caption>\n",
       "<tr>\n",
       "  <th>Dep. Variable:</th>           <td>mpg</td>       <th>  R-squared:         </th> <td>   0.894</td> \n",
       "</tr>\n",
       "<tr>\n",
       "  <th>Model:</th>                   <td>OLS</td>       <th>  Adj. R-squared:    </th> <td>   0.892</td> \n",
       "</tr>\n",
       "<tr>\n",
       "  <th>Method:</th>             <td>Least Squares</td>  <th>  F-statistic:       </th> <td>   451.0</td> \n",
       "</tr>\n",
       "<tr>\n",
       "  <th>Date:</th>             <td>Thu, 19 Dec 2019</td> <th>  Prob (F-statistic):</th> <td>3.24e-128</td>\n",
       "</tr>\n",
       "<tr>\n",
       "  <th>Time:</th>                 <td>16:55:01</td>     <th>  Log-Likelihood:    </th> <td>  208.37</td> \n",
       "</tr>\n",
       "<tr>\n",
       "  <th>No. Observations:</th>      <td>   274</td>      <th>  AIC:               </th> <td>  -404.7</td> \n",
       "</tr>\n",
       "<tr>\n",
       "  <th>Df Residuals:</th>          <td>   268</td>      <th>  BIC:               </th> <td>  -383.1</td> \n",
       "</tr>\n",
       "<tr>\n",
       "  <th>Df Model:</th>              <td>     5</td>      <th>                     </th>     <td> </td>    \n",
       "</tr>\n",
       "<tr>\n",
       "  <th>Covariance Type:</th>      <td>nonrobust</td>    <th>                     </th>     <td> </td>    \n",
       "</tr>\n",
       "</table>\n",
       "<table class=\"simpletable\">\n",
       "<tr>\n",
       "    <td></td>       <th>coef</th>     <th>std err</th>      <th>t</th>      <th>P>|t|</th>  <th>[0.025</th>    <th>0.975]</th>  \n",
       "</tr>\n",
       "<tr>\n",
       "  <th>const</th> <td>    0.0069</td> <td>    0.797</td> <td>    0.009</td> <td> 0.993</td> <td>   -1.562</td> <td>    1.576</td>\n",
       "</tr>\n",
       "<tr>\n",
       "  <th>x1</th>    <td>   -0.3662</td> <td>    0.069</td> <td>   -5.324</td> <td> 0.000</td> <td>   -0.502</td> <td>   -0.231</td>\n",
       "</tr>\n",
       "<tr>\n",
       "  <th>x2</th>    <td>   -0.5734</td> <td>    0.068</td> <td>   -8.394</td> <td> 0.000</td> <td>   -0.708</td> <td>   -0.439</td>\n",
       "</tr>\n",
       "<tr>\n",
       "  <th>x3</th>    <td>   -0.1992</td> <td>    0.067</td> <td>   -2.960</td> <td> 0.003</td> <td>   -0.332</td> <td>   -0.067</td>\n",
       "</tr>\n",
       "<tr>\n",
       "  <th>x4</th>    <td>    2.2777</td> <td>    0.163</td> <td>   13.939</td> <td> 0.000</td> <td>    1.956</td> <td>    2.599</td>\n",
       "</tr>\n",
       "<tr>\n",
       "  <th>x5</th>    <td>    0.0682</td> <td>    0.019</td> <td>    3.506</td> <td> 0.001</td> <td>    0.030</td> <td>    0.107</td>\n",
       "</tr>\n",
       "</table>\n",
       "<table class=\"simpletable\">\n",
       "<tr>\n",
       "  <th>Omnibus:</th>       <td> 2.873</td> <th>  Durbin-Watson:     </th> <td>   1.978</td>\n",
       "</tr>\n",
       "<tr>\n",
       "  <th>Prob(Omnibus):</th> <td> 0.238</td> <th>  Jarque-Bera (JB):  </th> <td>   3.113</td>\n",
       "</tr>\n",
       "<tr>\n",
       "  <th>Skew:</th>          <td> 0.032</td> <th>  Prob(JB):          </th> <td>   0.211</td>\n",
       "</tr>\n",
       "<tr>\n",
       "  <th>Kurtosis:</th>      <td> 3.518</td> <th>  Cond. No.          </th> <td>1.24e+03</td>\n",
       "</tr>\n",
       "</table><br/><br/>Warnings:<br/>[1] Standard Errors assume that the covariance matrix of the errors is correctly specified.<br/>[2] The condition number is large, 1.24e+03. This might indicate that there are<br/>strong multicollinearity or other numerical problems."
      ],
      "text/plain": [
       "<class 'statsmodels.iolib.summary.Summary'>\n",
       "\"\"\"\n",
       "                            OLS Regression Results                            \n",
       "==============================================================================\n",
       "Dep. Variable:                    mpg   R-squared:                       0.894\n",
       "Model:                            OLS   Adj. R-squared:                  0.892\n",
       "Method:                 Least Squares   F-statistic:                     451.0\n",
       "Date:                Thu, 19 Dec 2019   Prob (F-statistic):          3.24e-128\n",
       "Time:                        16:55:01   Log-Likelihood:                 208.37\n",
       "No. Observations:                 274   AIC:                            -404.7\n",
       "Df Residuals:                     268   BIC:                            -383.1\n",
       "Df Model:                           5                                         \n",
       "Covariance Type:            nonrobust                                         \n",
       "==============================================================================\n",
       "                 coef    std err          t      P>|t|      [0.025      0.975]\n",
       "------------------------------------------------------------------------------\n",
       "const          0.0069      0.797      0.009      0.993      -1.562       1.576\n",
       "x1            -0.3662      0.069     -5.324      0.000      -0.502      -0.231\n",
       "x2            -0.5734      0.068     -8.394      0.000      -0.708      -0.439\n",
       "x3            -0.1992      0.067     -2.960      0.003      -0.332      -0.067\n",
       "x4             2.2777      0.163     13.939      0.000       1.956       2.599\n",
       "x5             0.0682      0.019      3.506      0.001       0.030       0.107\n",
       "==============================================================================\n",
       "Omnibus:                        2.873   Durbin-Watson:                   1.978\n",
       "Prob(Omnibus):                  0.238   Jarque-Bera (JB):                3.113\n",
       "Skew:                           0.032   Prob(JB):                        0.211\n",
       "Kurtosis:                       3.518   Cond. No.                     1.24e+03\n",
       "==============================================================================\n",
       "\n",
       "Warnings:\n",
       "[1] Standard Errors assume that the covariance matrix of the errors is correctly specified.\n",
       "[2] The condition number is large, 1.24e+03. This might indicate that there are\n",
       "strong multicollinearity or other numerical problems.\n",
       "\"\"\""
      ]
     },
     "execution_count": 414,
     "metadata": {},
     "output_type": "execute_result"
    }
   ],
   "source": [
    "X_train_opt = np.append(arr = np.ones((274,1)).astype(int), values = X_train, axis = 1)\n",
    "X_train_opt = X_train_opt[:,[0,3, 4, 5, 6, 7]]\n",
    "regressor_OLS = sm.O#### LS(endog = y_train, exog = X_train_opt).fit()\n",
    "regressor_OLS.summary()\n"
   ]
  },
  {
   "cell_type": "markdown",
   "metadata": {},
   "source": [
    "####  X_train vs. X_train with removed features"
   ]
  },
  {
   "cell_type": "code",
   "execution_count": 569,
   "metadata": {},
   "outputs": [
    {
     "data": {
      "text/html": [
       "<div>\n",
       "<style scoped>\n",
       "    .dataframe tbody tr th:only-of-type {\n",
       "        vertical-align: middle;\n",
       "    }\n",
       "\n",
       "    .dataframe tbody tr th {\n",
       "        vertical-align: top;\n",
       "    }\n",
       "\n",
       "    .dataframe thead th {\n",
       "        text-align: right;\n",
       "    }\n",
       "</style>\n",
       "<table border=\"1\" class=\"dataframe\">\n",
       "  <thead>\n",
       "    <tr style=\"text-align: right;\">\n",
       "      <th></th>\n",
       "      <th>cylinders</th>\n",
       "      <th>displacement</th>\n",
       "      <th>horsepower</th>\n",
       "      <th>weight</th>\n",
       "      <th>acceleration</th>\n",
       "      <th>modelyear</th>\n",
       "      <th>origin</th>\n",
       "    </tr>\n",
       "  </thead>\n",
       "  <tbody>\n",
       "    <tr>\n",
       "      <td>110</td>\n",
       "      <td>1.386294</td>\n",
       "      <td>4.682131</td>\n",
       "      <td>4.543295</td>\n",
       "      <td>7.774436</td>\n",
       "      <td>2.803360</td>\n",
       "      <td>4.290459</td>\n",
       "      <td>1.098612</td>\n",
       "    </tr>\n",
       "    <tr>\n",
       "      <td>17</td>\n",
       "      <td>1.791759</td>\n",
       "      <td>5.298317</td>\n",
       "      <td>4.442651</td>\n",
       "      <td>7.858254</td>\n",
       "      <td>2.772589</td>\n",
       "      <td>4.248495</td>\n",
       "      <td>0.000000</td>\n",
       "    </tr>\n",
       "    <tr>\n",
       "      <td>320</td>\n",
       "      <td>1.386294</td>\n",
       "      <td>4.779123</td>\n",
       "      <td>4.521789</td>\n",
       "      <td>7.797291</td>\n",
       "      <td>2.708050</td>\n",
       "      <td>4.382027</td>\n",
       "      <td>1.098612</td>\n",
       "    </tr>\n",
       "  </tbody>\n",
       "</table>\n",
       "</div>"
      ],
      "text/plain": [
       "     cylinders  displacement  horsepower    weight  acceleration  modelyear  \\\n",
       "110   1.386294      4.682131    4.543295  7.774436      2.803360   4.290459   \n",
       "17    1.791759      5.298317    4.442651  7.858254      2.772589   4.248495   \n",
       "320   1.386294      4.779123    4.521789  7.797291      2.708050   4.382027   \n",
       "\n",
       "       origin  \n",
       "110  1.098612  \n",
       "17   0.000000  \n",
       "320  1.098612  "
      ]
     },
     "execution_count": 569,
     "metadata": {},
     "output_type": "execute_result"
    }
   ],
   "source": [
    "X_train.head(3)"
   ]
  },
  {
   "cell_type": "code",
   "execution_count": 570,
   "metadata": {},
   "outputs": [
    {
     "data": {
      "text/html": [
       "<div>\n",
       "<style scoped>\n",
       "    .dataframe tbody tr th:only-of-type {\n",
       "        vertical-align: middle;\n",
       "    }\n",
       "\n",
       "    .dataframe tbody tr th {\n",
       "        vertical-align: top;\n",
       "    }\n",
       "\n",
       "    .dataframe thead th {\n",
       "        text-align: right;\n",
       "    }\n",
       "</style>\n",
       "<table border=\"1\" class=\"dataframe\">\n",
       "  <thead>\n",
       "    <tr style=\"text-align: right;\">\n",
       "      <th></th>\n",
       "      <th>horsepower</th>\n",
       "      <th>weight</th>\n",
       "      <th>acceleration</th>\n",
       "      <th>modelyear</th>\n",
       "      <th>origin</th>\n",
       "    </tr>\n",
       "  </thead>\n",
       "  <tbody>\n",
       "    <tr>\n",
       "      <td>79</td>\n",
       "      <td>4.234107</td>\n",
       "      <td>7.691200</td>\n",
       "      <td>2.890372</td>\n",
       "      <td>4.276666</td>\n",
       "      <td>0.693147</td>\n",
       "    </tr>\n",
       "    <tr>\n",
       "      <td>276</td>\n",
       "      <td>4.744932</td>\n",
       "      <td>7.935587</td>\n",
       "      <td>2.753661</td>\n",
       "      <td>4.356709</td>\n",
       "      <td>0.693147</td>\n",
       "    </tr>\n",
       "    <tr>\n",
       "      <td>248</td>\n",
       "      <td>4.094345</td>\n",
       "      <td>7.495542</td>\n",
       "      <td>2.797281</td>\n",
       "      <td>4.356709</td>\n",
       "      <td>1.098612</td>\n",
       "    </tr>\n",
       "  </tbody>\n",
       "</table>\n",
       "</div>"
      ],
      "text/plain": [
       "     horsepower    weight  acceleration  modelyear    origin\n",
       "79     4.234107  7.691200      2.890372   4.276666  0.693147\n",
       "276    4.744932  7.935587      2.753661   4.356709  0.693147\n",
       "248    4.094345  7.495542      2.797281   4.356709  1.098612"
      ]
     },
     "execution_count": 570,
     "metadata": {},
     "output_type": "execute_result"
    }
   ],
   "source": [
    "X_train2 = X_train.iloc[:,[2,3, 4, 5, 6]]\n",
    "X_train2.head(3)\n",
    "\n",
    "X_test2 = X_test.iloc[:,[2,3, 4, 5, 6]]\n",
    "X_test2.head(3)"
   ]
  },
  {
   "cell_type": "markdown",
   "metadata": {},
   "source": [
    "#### Now run Random forest algo on reduced number of features"
   ]
  },
  {
   "cell_type": "code",
   "execution_count": 571,
   "metadata": {},
   "outputs": [],
   "source": [
    "rf = RandomForestRegressor(n_estimators = 10)\n",
    "rf.fit(X_train2,y_train)\n",
    "y_pred = rf.predict(X_test2)"
   ]
  },
  {
   "cell_type": "code",
   "execution_count": 572,
   "metadata": {},
   "outputs": [
    {
     "data": {
      "text/plain": [
       "Text(0, 0.5, 'predicted MPG')"
      ]
     },
     "execution_count": 572,
     "metadata": {},
     "output_type": "execute_result"
    },
    {
     "data": {
      "image/png": "[encoded data removed]",
      "text/plain": [
       "<Figure size 864x360 with 2 Axes>"
      ]
     },
     "metadata": {
      "needs_background": "light"
     },
     "output_type": "display_data"
    }
   ],
   "source": [
    "import matplotlib.gridspec as gridspec\n",
    "\n",
    "fig = plt.figure(figsize=(12,5))\n",
    "grid = gridspec.GridSpec(ncols=2, nrows=1, figure=fig)\n",
    "\n",
    "ax1 = fig.add_subplot(grid[0, 0])\n",
    "ax2 = fig.add_subplot(grid[0, 1])\n",
    "\n",
    "sns.scatterplot(x = y_test['mpg'], y = y_pred, ax=ax1)\n",
    "sns.regplot(x = y_test['mpg'], y=y_pred, ax=ax1)\n",
    "ax1.set_title(\"Log of Predictions vs. actuals\")\n",
    "ax1.set_xlabel('Actual MPG')\n",
    "ax1.set_ylabel('predicted MPG')\n",
    "\n",
    "sns.scatterplot(x = np.exp(y_test['mpg']), y = np.exp(y_pred), ax=ax2,)\n",
    "sns.regplot(x = np.exp(y_test['mpg']), y=np.exp(y_pred), ax=ax2)\n",
    "ax2.set_title(\"Real values of Predictions vs. actuals\")\n",
    "ax2.set_xlabel('Actual MPG')\n",
    "ax2.set_ylabel('predicted MPG')"
   ]
  },
  {
   "cell_type": "markdown",
   "metadata": {},
   "source": [
    "#### Now calculate the MAE, MSE, RMSE - it seems the new ones are much better than ones with all features"
   ]
  },
  {
   "cell_type": "code",
   "execution_count": 573,
   "metadata": {},
   "outputs": [
    {
     "name": "stdout",
     "output_type": "stream",
     "text": [
      "MAE: 0.07700061119950408\n",
      "MSE: 0.010134333336198278\n",
      "RMSE: 0.1006694260249768\n"
     ]
    }
   ],
   "source": [
    "print('MAE:', metrics.mean_absolute_error(y_test, y_pred))\n",
    "print('MSE:', metrics.mean_squared_error(y_test, y_pred))\n",
    "print('RMSE:', np.sqrt(metrics.mean_squared_error(y_test, y_pred)))"
   ]
  },
  {
   "cell_type": "code",
   "execution_count": null,
   "metadata": {},
   "outputs": [],
   "source": []
  }
 ],
 "metadata": {
  "kernelspec": {
   "display_name": "Python 3",
   "language": "python",
   "name": "python3"
  },
  "language_info": {
   "codemirror_mode": {
    "name": "ipython",
    "version": 3
   },
   "file_extension": ".py",
   "mimetype": "text/x-python",
   "name": "python",
   "nbconvert_exporter": "python",
   "pygments_lexer": "ipython3",
   "version": "3.7.2"
  }
 },
 "nbformat": 4,
 "nbformat_minor": 2
}
